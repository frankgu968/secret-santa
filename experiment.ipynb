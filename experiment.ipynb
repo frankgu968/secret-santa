{
 "cells": [
  {
   "cell_type": "code",
   "execution_count": 1,
   "id": "1a3abca0-433b-4b38-b830-391d1b4c46ee",
   "metadata": {},
   "outputs": [],
   "source": [
    "import create_graph as cga\n",
    "import networkx as nx \n",
    "G = cga.create_nodes_from_csv('./example.csv')\n",
    "G = cga.create_edges(G)"
   ]
  },
  {
   "cell_type": "code",
   "execution_count": null,
   "id": "6c162d86-4d5b-4ab1-9ebc-eea5fc4dc700",
   "metadata": {},
   "outputs": [],
   "source": [
    "path = cga.get_hamiltonian_path(G)\n",
    "for idx, x in enumerate(path):\n",
    "    if(idx < len(path) - 1):\n",
    "        print('{} -> {} : {}'.format(path[idx], path[idx+1], G.get_edge_data(path[idx],path[idx+1])))\n",
    "    else:\n",
    "        print('{} -> {} : {}'.format(path[idx], path[0], G.get_edge_data(path[idx],path[0])))"
   ]
  }
 ],
 "metadata": {
  "kernelspec": {
   "display_name": "Python 3 (ipykernel)",
   "language": "python",
   "name": "python3"
  },
  "language_info": {
   "codemirror_mode": {
    "name": "ipython",
    "version": 3
   },
   "file_extension": ".py",
   "mimetype": "text/x-python",
   "name": "python",
   "nbconvert_exporter": "python",
   "pygments_lexer": "ipython3",
   "version": "3.12.0"
  }
 },
 "nbformat": 4,
 "nbformat_minor": 5
}
